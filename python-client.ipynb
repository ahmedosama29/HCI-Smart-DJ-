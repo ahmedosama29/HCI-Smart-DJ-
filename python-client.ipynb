{
 "cells": [
  {
   "cell_type": "code",
   "execution_count": 2,
   "id": "2cba1954",
   "metadata": {},
   "outputs": [
    {
     "name": "stdout",
     "output_type": "stream",
     "text": [
      "hci\n",
      "hi\n",
      "exit\n"
     ]
    }
   ],
   "source": [
    "import socket\n",
    "import pickle\n",
    "soc = socket.socket()\n",
    "hostname=\"localhost\"# 127.0.0.1 #0.0.0.0\n",
    "port=65434\n",
    "soc.connect((hostname,port))\n",
    "while True:\n",
    "    data = soc.recv(1024)\n",
    "    res = pickle.loads(data)\n",
    "    print(res)\n",
    "    if res == \"exit\":\n",
    "        break"
   ]
  },
  {
   "cell_type": "code",
   "execution_count": null,
   "id": "3f587335",
   "metadata": {},
   "outputs": [],
   "source": [
    "soc.close()"
   ]
  },
  {
   "cell_type": "code",
   "execution_count": null,
   "id": "4be033f8",
   "metadata": {},
   "outputs": [],
   "source": []
  }
 ],
 "metadata": {
  "kernelspec": {
   "display_name": "Python 3",
   "language": "python",
   "name": "python3"
  },
  "language_info": {
   "codemirror_mode": {
    "name": "ipython",
    "version": 3
   },
   "file_extension": ".py",
   "mimetype": "text/x-python",
   "name": "python",
   "nbconvert_exporter": "python",
   "pygments_lexer": "ipython3",
   "version": "3.10.0"
  }
 },
 "nbformat": 4,
 "nbformat_minor": 5
}
